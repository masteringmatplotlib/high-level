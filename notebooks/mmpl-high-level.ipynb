{
 "metadata": {
  "name": "",
  "signature": "sha256:4b7e69c31ffe9e2de600c89988b6e778e5f63e81035846a64585a9be933d03cb"
 },
 "nbformat": 3,
 "nbformat_minor": 0,
 "worksheets": [
  {
   "cells": [
    {
     "cell_type": "heading",
     "level": 1,
     "metadata": {},
     "source": [
      "High-level Plotting and Data Analysis"
     ]
    },
    {
     "cell_type": "markdown",
     "metadata": {},
     "source": [
      "In the following sections of this IPython Notebook we be looking at the following:\n",
      "\n",
      "* High-level plotting\n",
      "  * Background\n",
      "  * matplotlib\n",
      "  * NetworkX\n",
      "* Grammar of graphics\n",
      "  * New styles in matplotlib\n",
      "  * Seaborn\n",
      "  * Bokeh\n",
      "* Data analysis\n",
      "  * Pandas\n",
      "  * statsmodels\n",
      "  * scikit-learn\n",
      "  * Case study\n",
      "\n",
      "Warm-up proceedures:"
     ]
    },
    {
     "cell_type": "code",
     "collapsed": false,
     "input": [
      "import matplotlib\n",
      "matplotlib.use('nbagg')\n",
      "%matplotlib inline"
     ],
     "language": "python",
     "metadata": {},
     "outputs": [],
     "prompt_number": 1
    },
    {
     "cell_type": "markdown",
     "metadata": {},
     "source": [
      "Let's continue with the necessary imports:"
     ]
    },
    {
     "cell_type": "code",
     "collapsed": false,
     "input": [
      "import numpy as np\n",
      "import matplotlib as mpl\n",
      "import matplotlib.pyplot as plt\n",
      "import pandas as pd \n",
      "import statsmodels.api as sm \n",
      "import seaborn as sns\n",
      "from typecheck import typecheck"
     ],
     "language": "python",
     "metadata": {},
     "outputs": [],
     "prompt_number": 2
    },
    {
     "cell_type": "markdown",
     "metadata": {},
     "source": [
      "Let's set up our colors for this notebook:"
     ]
    },
    {
     "cell_type": "code",
     "collapsed": false,
     "input": [
      "pallete_name = \"husl\"\n",
      "colors = sns.color_palette(pallete_name, 8)\n",
      "colors.reverse()\n",
      "cmap = mpl.colors.LinearSegmentedColormap.from_list(pallete_name, colors) "
     ],
     "language": "python",
     "metadata": {},
     "outputs": [],
     "prompt_number": 3
    },
    {
     "cell_type": "heading",
     "level": 2,
     "metadata": {},
     "source": [
      "High-level plotting"
     ]
    },
    {
     "cell_type": "markdown",
     "metadata": {},
     "source": [
      "For our purposes, we will define high-level plotting as anything in the matplotlib world which:\n",
      "\n",
      "1. Utilizes matplotlib APIs under the covers\n",
      "1. In order to accomplish complicated plotting tasks\n",
      "1. And provide an API for those tasks to the user, to employ either in conjunction with matplotlib directly, or instead of it (using matplotlib under the covers)\n",
      "\n",
      "We will examine a couple of examples in the following sections.\n",
      "\n",
      "Note that some obvious library choices are not dicussed in this context as they will be used in different, subsequent sections."
     ]
    },
    {
     "cell_type": "heading",
     "level": 3,
     "metadata": {},
     "source": [
      "Background"
     ]
    },
    {
     "cell_type": "markdown",
     "metadata": {},
     "source": [
      "The world of data visualization has an interesting and eclectic history, covered quite nicely in Michael Friendly's paper [Milestones in the History of Data Visualization: A Case Study in Statistical Historiography]([2006] Friendly.pdf) with a related and quite wonderful [graphic outline](http://www.datavis.ca/milestones/) and [dedicated site](http://datavis.ca/).\n",
      "\n",
      "Below we have provided some highlights from the history data visualization."
     ]
    },
    {
     "cell_type": "heading",
     "level": 4,
     "metadata": {},
     "source": [
      "1644 - Michael Florent van Langren"
     ]
    },
    {
     "cell_type": "markdown",
     "metadata": {},
     "source": [
      "Credit for the vist visual representation of statistical data for his graph of 12 contemporary estimates for the distance from Toledo to Rome:\n",
      "\n",
      "<img src=\"B02036_05_01.png\" />"
     ]
    },
    {
     "cell_type": "heading",
     "level": 4,
     "metadata": {},
     "source": [
      "1686 - Edmond Halley"
     ]
    },
    {
     "cell_type": "markdown",
     "metadata": {},
     "source": [
      "A theoretical plot predicting barometric pressure vs. altitude, derived from experimental observation:\n",
      "\n",
      "<img src=\"B02036_05_02.png\" />"
     ]
    },
    {
     "cell_type": "heading",
     "level": 4,
     "metadata": {},
     "source": [
      "1786 - William Playfair"
     ]
    },
    {
     "cell_type": "markdown",
     "metadata": {},
     "source": [
      "The first line graph, depicting English imports to and from Denmark and Norway over the course of 80 years:\n",
      "\n",
      "<img src=\"B02036_05_03.png\" />"
     ]
    },
    {
     "cell_type": "heading",
     "level": 4,
     "metadata": {},
     "source": [
      "1869 - Charles Minard"
     ]
    },
    {
     "cell_type": "markdown",
     "metadata": {},
     "source": [
      "A map of Napoleon's Russian Campaign of 1812 combined with a Sankey diagram depicting the successive losses of soldiers in the French Army. Note that this Sankey diagram actually predates the steam engine diagram of 1898 by Matthew Henry Phineas Riall Sankey, for whom the diagram is named.\n",
      "\n",
      "<img src=\"B02036_05_03.5.png\" />"
     ]
    },
    {
     "cell_type": "heading",
     "level": 3,
     "metadata": {},
     "source": [
      "matplotlib"
     ]
    },
    {
     "cell_type": "code",
     "collapsed": false,
     "input": [],
     "language": "python",
     "metadata": {},
     "outputs": []
    },
    {
     "cell_type": "heading",
     "level": 3,
     "metadata": {},
     "source": [
      "NetworkX"
     ]
    },
    {
     "cell_type": "code",
     "collapsed": false,
     "input": [],
     "language": "python",
     "metadata": {},
     "outputs": []
    },
    {
     "cell_type": "heading",
     "level": 2,
     "metadata": {},
     "source": [
      "Grammar of graphics"
     ]
    },
    {
     "cell_type": "heading",
     "level": 3,
     "metadata": {},
     "source": [
      "New styles in matplotlib"
     ]
    },
    {
     "cell_type": "heading",
     "level": 3,
     "metadata": {},
     "source": [
      "Seaborn"
     ]
    },
    {
     "cell_type": "heading",
     "level": 3,
     "metadata": {},
     "source": [
      "Bokeh"
     ]
    },
    {
     "cell_type": "heading",
     "level": 2,
     "metadata": {},
     "source": [
      "Data analysis"
     ]
    },
    {
     "cell_type": "heading",
     "level": 3,
     "metadata": {},
     "source": [
      "Pandas"
     ]
    },
    {
     "cell_type": "heading",
     "level": 3,
     "metadata": {},
     "source": [
      "scikit-learn"
     ]
    },
    {
     "cell_type": "heading",
     "level": 3,
     "metadata": {},
     "source": [
      "Case study"
     ]
    },
    {
     "cell_type": "code",
     "collapsed": false,
     "input": [],
     "language": "python",
     "metadata": {},
     "outputs": []
    }
   ],
   "metadata": {}
  }
 ]
}